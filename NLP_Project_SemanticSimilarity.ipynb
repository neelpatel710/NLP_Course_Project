{
  "nbformat": 4,
  "nbformat_minor": 0,
  "metadata": {
    "colab": {
      "name": "NLP_Project_SemanticSimilarity.ipynb",
      "provenance": [],
      "collapsed_sections": [],
      "mount_file_id": "1C-4D5bDlRz0QwGO7dO190ZfSBOs8DcKx",
      "authorship_tag": "ABX9TyOAmAG6ejiokYL7vDQx+oLe",
      "include_colab_link": true
    },
    "kernelspec": {
      "name": "python3",
      "display_name": "Python 3"
    },
    "accelerator": "GPU"
  },
  "cells": [
    {
      "cell_type": "markdown",
      "metadata": {
        "id": "view-in-github",
        "colab_type": "text"
      },
      "source": [
        "<a href=\"https://colab.research.google.com/github/neelpatel710/NLP_Course_Project/blob/master/NLP_Project_SemanticSimilarity.ipynb\" target=\"_parent\"><img src=\"https://colab.research.google.com/assets/colab-badge.svg\" alt=\"Open In Colab\"/></a>"
      ]
    },
    {
      "cell_type": "code",
      "metadata": {
        "id": "xQ5T_9QwzlRh",
        "colab_type": "code",
        "colab": {}
      },
      "source": [
        "import pandas as pd\n",
        "import matplotlib.pyplot as plt\n",
        "import numpy as np\n",
        "import torch\n",
        "import math\n",
        "from sklearn.utils import shuffle\n",
        "from sklearn.model_selection import train_test_split\n",
        "import warnings\n",
        "warnings.filterwarnings(\"ignore\")"
      ],
      "execution_count": 0,
      "outputs": []
    },
    {
      "cell_type": "code",
      "metadata": {
        "id": "TFm8o1jN5ypr",
        "colab_type": "code",
        "colab": {}
      },
      "source": [
        "from gensim.models import Word2Vec\n",
        "from gensim.models.phrases import Phraser, Phrases"
      ],
      "execution_count": 0,
      "outputs": []
    },
    {
      "cell_type": "code",
      "metadata": {
        "id": "QbEUeq1mxTNb",
        "colab_type": "code",
        "outputId": "40f19c1f-ce64-4735-8bfb-5f1c496b6848",
        "colab": {
          "base_uri": "https://localhost:8080/",
          "height": 187
        }
      },
      "source": [
        "import nltk\n",
        "nltk.download('punkt')\n",
        "nltk.download('wordnet')\n",
        "nltk.download('stopwords')\n",
        "nltk.download('averaged_perceptron_tagger')\n",
        "from nltk.tokenize import word_tokenize\n",
        "from nltk.corpus import stopwords\n",
        "from nltk.stem import WordNetLemmatizer\n",
        "from nltk.corpus import wordnet"
      ],
      "execution_count": 3,
      "outputs": [
        {
          "output_type": "stream",
          "text": [
            "[nltk_data] Downloading package punkt to /root/nltk_data...\n",
            "[nltk_data]   Package punkt is already up-to-date!\n",
            "[nltk_data] Downloading package wordnet to /root/nltk_data...\n",
            "[nltk_data]   Package wordnet is already up-to-date!\n",
            "[nltk_data] Downloading package stopwords to /root/nltk_data...\n",
            "[nltk_data]   Package stopwords is already up-to-date!\n",
            "[nltk_data] Downloading package averaged_perceptron_tagger to\n",
            "[nltk_data]     /root/nltk_data...\n",
            "[nltk_data]   Package averaged_perceptron_tagger is already up-to-\n",
            "[nltk_data]       date!\n"
          ],
          "name": "stdout"
        }
      ]
    },
    {
      "cell_type": "code",
      "metadata": {
        "id": "AKJY7gyMy7H6",
        "colab_type": "code",
        "outputId": "a200b515-7104-4689-8411-284bfef1338c",
        "colab": {
          "base_uri": "https://localhost:8080/",
          "height": 529
        }
      },
      "source": [
        "dataset = pd.read_csv('/content/drive/My Drive/Dataset/SICK_whole.txt',sep='\\t')\n",
        "print(\"SICK Dataset:\")\n",
        "dataset.head(10)"
      ],
      "execution_count": 4,
      "outputs": [
        {
          "output_type": "stream",
          "text": [
            "SICK Dataset:\n"
          ],
          "name": "stdout"
        },
        {
          "output_type": "execute_result",
          "data": {
            "text/html": [
              "<div>\n",
              "<style scoped>\n",
              "    .dataframe tbody tr th:only-of-type {\n",
              "        vertical-align: middle;\n",
              "    }\n",
              "\n",
              "    .dataframe tbody tr th {\n",
              "        vertical-align: top;\n",
              "    }\n",
              "\n",
              "    .dataframe thead th {\n",
              "        text-align: right;\n",
              "    }\n",
              "</style>\n",
              "<table border=\"1\" class=\"dataframe\">\n",
              "  <thead>\n",
              "    <tr style=\"text-align: right;\">\n",
              "      <th></th>\n",
              "      <th>pair_ID</th>\n",
              "      <th>sentence_A</th>\n",
              "      <th>sentence_B</th>\n",
              "      <th>relatedness_score</th>\n",
              "      <th>entailment_judgment</th>\n",
              "    </tr>\n",
              "  </thead>\n",
              "  <tbody>\n",
              "    <tr>\n",
              "      <th>0</th>\n",
              "      <td>1</td>\n",
              "      <td>A group of kids is playing in a yard and an ol...</td>\n",
              "      <td>A group of boys in a yard is playing and a man...</td>\n",
              "      <td>4.5</td>\n",
              "      <td>NEUTRAL</td>\n",
              "    </tr>\n",
              "    <tr>\n",
              "      <th>1</th>\n",
              "      <td>2</td>\n",
              "      <td>A group of children is playing in the house an...</td>\n",
              "      <td>A group of kids is playing in a yard and an ol...</td>\n",
              "      <td>3.2</td>\n",
              "      <td>NEUTRAL</td>\n",
              "    </tr>\n",
              "    <tr>\n",
              "      <th>2</th>\n",
              "      <td>3</td>\n",
              "      <td>The young boys are playing outdoors and the ma...</td>\n",
              "      <td>The kids are playing outdoors near a man with ...</td>\n",
              "      <td>4.7</td>\n",
              "      <td>ENTAILMENT</td>\n",
              "    </tr>\n",
              "    <tr>\n",
              "      <th>3</th>\n",
              "      <td>5</td>\n",
              "      <td>The kids are playing outdoors near a man with ...</td>\n",
              "      <td>A group of kids is playing in a yard and an ol...</td>\n",
              "      <td>3.4</td>\n",
              "      <td>NEUTRAL</td>\n",
              "    </tr>\n",
              "    <tr>\n",
              "      <th>4</th>\n",
              "      <td>9</td>\n",
              "      <td>The young boys are playing outdoors and the ma...</td>\n",
              "      <td>A group of kids is playing in a yard and an ol...</td>\n",
              "      <td>3.7</td>\n",
              "      <td>NEUTRAL</td>\n",
              "    </tr>\n",
              "    <tr>\n",
              "      <th>5</th>\n",
              "      <td>12</td>\n",
              "      <td>Two dogs are fighting</td>\n",
              "      <td>Two dogs are wrestling and hugging</td>\n",
              "      <td>4.0</td>\n",
              "      <td>NEUTRAL</td>\n",
              "    </tr>\n",
              "    <tr>\n",
              "      <th>6</th>\n",
              "      <td>14</td>\n",
              "      <td>A brown dog is attacking another animal in fro...</td>\n",
              "      <td>Two dogs are fighting</td>\n",
              "      <td>3.5</td>\n",
              "      <td>NEUTRAL</td>\n",
              "    </tr>\n",
              "    <tr>\n",
              "      <th>7</th>\n",
              "      <td>18</td>\n",
              "      <td>A brown dog is attacking another animal in fro...</td>\n",
              "      <td>Two dogs are wrestling and hugging</td>\n",
              "      <td>3.2</td>\n",
              "      <td>NEUTRAL</td>\n",
              "    </tr>\n",
              "    <tr>\n",
              "      <th>8</th>\n",
              "      <td>25</td>\n",
              "      <td>Nobody is riding the bicycle on one wheel</td>\n",
              "      <td>A person in a black jacket is doing tricks on ...</td>\n",
              "      <td>2.8</td>\n",
              "      <td>NEUTRAL</td>\n",
              "    </tr>\n",
              "    <tr>\n",
              "      <th>9</th>\n",
              "      <td>26</td>\n",
              "      <td>A person is riding the bicycle on one wheel</td>\n",
              "      <td>A man in a black jacket is doing tricks on a m...</td>\n",
              "      <td>3.7</td>\n",
              "      <td>NEUTRAL</td>\n",
              "    </tr>\n",
              "  </tbody>\n",
              "</table>\n",
              "</div>"
            ],
            "text/plain": [
              "   pair_ID  ... entailment_judgment\n",
              "0        1  ...             NEUTRAL\n",
              "1        2  ...             NEUTRAL\n",
              "2        3  ...          ENTAILMENT\n",
              "3        5  ...             NEUTRAL\n",
              "4        9  ...             NEUTRAL\n",
              "5       12  ...             NEUTRAL\n",
              "6       14  ...             NEUTRAL\n",
              "7       18  ...             NEUTRAL\n",
              "8       25  ...             NEUTRAL\n",
              "9       26  ...             NEUTRAL\n",
              "\n",
              "[10 rows x 5 columns]"
            ]
          },
          "metadata": {
            "tags": []
          },
          "execution_count": 4
        }
      ]
    },
    {
      "cell_type": "code",
      "metadata": {
        "id": "P49_1XYK1W1s",
        "colab_type": "code",
        "colab": {}
      },
      "source": [
        "#Creating Corpus.\n",
        "myCorpus = []\n",
        "for index, row in dataset.iterrows():\n",
        "  myCorpus.append(word_tokenize(row['sentence_A'].lower()))\n",
        "  myCorpus.append(word_tokenize(row['sentence_B'].lower()))"
      ],
      "execution_count": 0,
      "outputs": []
    },
    {
      "cell_type": "code",
      "metadata": {
        "id": "cz58S6qN1SsR",
        "colab_type": "code",
        "colab": {}
      },
      "source": [
        "# #Training Word2Vec on the Corpus.\n",
        "common_terms = [\"of\", \"with\", \"without\", \"and\", \"or\", \"the\", \"a\"]\n",
        "phrasesCombiningCommonTerms = Phrases(myCorpus, common_terms=common_terms)\n",
        "bigram = Phraser(phrasesCombiningCommonTerms)\n",
        "myCorpus = list(bigram[myCorpus])"
      ],
      "execution_count": 0,
      "outputs": []
    },
    {
      "cell_type": "code",
      "metadata": {
        "id": "y1_jCZtq2uUA",
        "colab_type": "code",
        "colab": {}
      },
      "source": [
        "#Training the Word2Vec model.\n",
        "customModelWord2Vec = Word2Vec(myCorpus, min_count=3, size=200, window=3, iter=90)\n",
        "torch.save(customModelWord2Vec,'/content/8_project_2_TT.pt')"
      ],
      "execution_count": 0,
      "outputs": []
    },
    {
      "cell_type": "code",
      "metadata": {
        "id": "kEY5nnW32oDD",
        "colab_type": "code",
        "colab": {}
      },
      "source": [
        "loadModel = torch.load('/content/8_project_2_TT.pt')\n",
        "word_vectors = loadModel.wv"
      ],
      "execution_count": 0,
      "outputs": []
    },
    {
      "cell_type": "markdown",
      "metadata": {
        "id": "qIKjOcsN4PXU",
        "colab_type": "text"
      },
      "source": [
        "**Algorithm Functions**"
      ]
    },
    {
      "cell_type": "code",
      "metadata": {
        "id": "LxkuGlJb-gvT",
        "colab_type": "code",
        "colab": {}
      },
      "source": [
        "#Converting NLTK POS tag of wordNet POS tags. \n",
        "tagDict = {\"J\": wordnet.ADJ, \"N\": wordnet.NOUN, \"V\": wordnet.VERB, \"R\": wordnet.ADV}\n",
        "def wordNetTag(tag):\n",
        "  return tagDict.get(tag[0].upper(),None)"
      ],
      "execution_count": 0,
      "outputs": []
    },
    {
      "cell_type": "code",
      "metadata": {
        "id": "rw5WJCx8wV5B",
        "colab_type": "code",
        "colab": {}
      },
      "source": [
        "#Removing stopwords, punctuations and performing lemmatization along with POS.\n",
        "def performPreProcessing(sentence):\n",
        "  posTag = None\n",
        "  stopword = True\n",
        "  posTaggingSent = nltk.pos_tag(word_tokenize(sentence))\n",
        "  wordNet_Lemmatizer = WordNetLemmatizer()\n",
        "  stopwords_english = stopwords.words(\"english\")\n",
        "  punctuations = \",.?:;()-'!`\\\"\"\n",
        "  sentence = sentence.lower()\n",
        "  tmpPhrase = []\n",
        "  wordNetPosTagWithWords = {}\n",
        "  wordTokens = word_tokenize(sentence)\n",
        "  for eachWord in wordTokens:\n",
        "    if eachWord in punctuations:\n",
        "      continue\n",
        "    if eachWord in stopwords_english and stopword:\n",
        "      continue\n",
        "    for p in range(len(posTaggingSent)):\n",
        "      if eachWord == posTaggingSent[p][0]:\n",
        "        posTag = wordNetTag(posTaggingSent[p][1])\n",
        "    if posTag == None:\n",
        "      rootWord = wordNet_Lemmatizer.lemmatize(eachWord)\n",
        "    else:\n",
        "      rootWord = wordNet_Lemmatizer.lemmatize(eachWord,pos=posTag)\n",
        "      wordNetPosTagWithWords[rootWord] = posTag\n",
        "    tmpPhrase.append(rootWord)\n",
        "  return wordNetPosTagWithWords, tmpPhrase"
      ],
      "execution_count": 0,
      "outputs": []
    },
    {
      "cell_type": "code",
      "metadata": {
        "id": "LnAnAS1T048N",
        "colab_type": "code",
        "colab": {}
      },
      "source": [
        "def combinedUniqueWords(sentence1,sentence2,posTag1, posTag2):\n",
        "  unionSet =  sentence1.copy()\n",
        "  for word in sentence2:\n",
        "    if not word in unionSet:\n",
        "      unionSet.append(word)\n",
        "  return unionSet"
      ],
      "execution_count": 0,
      "outputs": []
    },
    {
      "cell_type": "code",
      "metadata": {
        "id": "GXnUUKU_4bEj",
        "colab_type": "code",
        "colab": {}
      },
      "source": [
        "#Word2Vec model is used to compute word similarity.\n",
        "def semanticVector(sentence):\n",
        "  global unionSet_1_2\n",
        "  vector = []\n",
        "  for word in unionSet_1_2:\n",
        "    if word in sentence:\n",
        "      vector.append(1)\n",
        "    else:\n",
        "      tmpSimilar = {}\n",
        "      #If word is not present in wordNet.\n",
        "      for individualSentWord in sentence:\n",
        "        if word in word_vectors.vocab and individualSentWord in word_vectors.vocab:\n",
        "          wordSimilarity = loadModel.wv.similarity(word, individualSentWord)\n",
        "        else:\n",
        "          wordSimilarity = 0\n",
        "        tmpSimilar[individualSentWord] = wordSimilarity\n",
        "      #If the word is not similar to any other words of another sentence.\n",
        "      if tmpSimilar != {}:\n",
        "        argmax = sorted(tmpSimilar.items(), key=lambda x: x[1],reverse=True)\n",
        "        final = argmax[0][1]\n",
        "        vector.append(final)\n",
        "      else:\n",
        "        vector.append(0)\n",
        "  return vector"
      ],
      "execution_count": 0,
      "outputs": []
    },
    {
      "cell_type": "code",
      "metadata": {
        "id": "cBogOQVQ8Hcp",
        "colab_type": "code",
        "colab": {}
      },
      "source": [
        "#Compute Sentence Similarity - Cosine similarity.\n",
        "def computeSimilarity(vector1, vector2):\n",
        "  return np.dot(vector1, vector2)/(np.linalg.norm(vector1) * np.linalg.norm(vector2))"
      ],
      "execution_count": 0,
      "outputs": []
    },
    {
      "cell_type": "code",
      "metadata": {
        "id": "3DmFL_nLFS12",
        "colab_type": "code",
        "colab": {}
      },
      "source": [
        "#Storing common words to compute word order vectors.\n",
        "def commonWords(sentence1,sentence2):\n",
        "  intersectSet = []\n",
        "  for word1 in sentence1:\n",
        "    for word2 in sentence2:\n",
        "      if word1 == word2:\n",
        "        if not word1 in intersectSet:\n",
        "          intersectSet.append(word1)\n",
        "  return intersectSet"
      ],
      "execution_count": 0,
      "outputs": []
    },
    {
      "cell_type": "code",
      "metadata": {
        "id": "OA50P-XVHPyR",
        "colab_type": "code",
        "colab": {}
      },
      "source": [
        "#Computing word order vectors\n",
        "def wordOrderVector(sentence1, sentence2):\n",
        "  global intersectSet\n",
        "  vector1, vector2 = [], []\n",
        "  #Sentence length same but no common words.\n",
        "  if intersectSet != []:\n",
        "    vector1 = [i+1 for i in range(len(sentence1))]\n",
        "    for word in sentence2:\n",
        "      for wordSent1 in sentence1:\n",
        "        if word == wordSent1:\n",
        "          #Repeative of common word in same sentence.\n",
        "          if not (sentence1.index(wordSent1)+1) in vector2:\n",
        "            vector2.append(sentence1.index(wordSent1)+1)\n",
        "  #Same length, having common words but interchanged places.\n",
        "  if len(vector1) == len(vector2):\n",
        "    return vector1, vector2\n",
        "  else:\n",
        "    return [], []"
      ],
      "execution_count": 0,
      "outputs": []
    },
    {
      "cell_type": "code",
      "metadata": {
        "id": "1w_Rnhj7L8rm",
        "colab_type": "code",
        "colab": {}
      },
      "source": [
        "def computeWordOrderSimilarity(vector1, vector2):\n",
        "  sub = np.subtract(vector1,vector2)\n",
        "  add = np.add(vector1,vector2)\n",
        "  return 1-((np.linalg.norm(sub) / np.linalg.norm(add)))"
      ],
      "execution_count": 0,
      "outputs": []
    },
    {
      "cell_type": "code",
      "metadata": {
        "id": "-o8Gd0RGN3ya",
        "colab_type": "code",
        "colab": {}
      },
      "source": [
        "def semanticSimilarity(sentence1, sentence2):\n",
        "  global unionSet_1_2, intersectSet\n",
        "  # print(\"Sentence 1: \"+sentence1)\n",
        "  # print(\"Sentence 2: \"+sentence2)\n",
        "  #Preprocessing\n",
        "  posTags1, processedSent1 = performPreProcessing(sentence1)\n",
        "  posTags2, processedSent2 = performPreProcessing(sentence2)\n",
        "  # print(processedSent1)\n",
        "  # print(processedSent2)\n",
        "  unionSet_1_2 = combinedUniqueWords(processedSent1,processedSent2, posTags1, posTags2)\n",
        "  # print(len(unionSet_1_2))\n",
        "  semVecSent1 = semanticVector(processedSent1)\n",
        "  # print(semVecSent1)\n",
        "  semVecSent2 = semanticVector(processedSent2)\n",
        "  # print(semVecSent2)\n",
        "  sentenceSimilarity = computeSimilarity(semVecSent1, semVecSent2)\n",
        "  # Words same but interchanged\n",
        "  if len(processedSent1) == len(processedSent2):\n",
        "    e = 0.85\n",
        "    intersectSet = commonWords(processedSent1, processedSent2)\n",
        "    # print(intersectSet)\n",
        "    # print(processedSent1,processedSent2)\n",
        "    vec1, vec2 = wordOrderVector(processedSent1,processedSent2)\n",
        "    # print(vec1, vec2)\n",
        "    if vec1 == [] or vec2 == []:\n",
        "      return sentenceSimilarity\n",
        "    else:\n",
        "      wordOrderSimilarity =  computeWordOrderSimilarity(vec1, vec2)\n",
        "      #Completely same order.\n",
        "      if wordOrderSimilarity != 0:\n",
        "        return e*sentenceSimilarity + (1-e)*wordOrderSimilarity\n",
        "      else:\n",
        "        return sentenceSimilarity    \n",
        "  else:\n",
        "    return sentenceSimilarity"
      ],
      "execution_count": 0,
      "outputs": []
    },
    {
      "cell_type": "code",
      "metadata": {
        "id": "T-Xpj2O46wFT",
        "colab_type": "code",
        "colab": {}
      },
      "source": [
        "#Coverted percentage to scale of 1 to 5 for SICK dataset.\n",
        "def generateCategory(x):\n",
        "  return round(x*5,1) if round(x*5,1)!=0 else 1"
      ],
      "execution_count": 0,
      "outputs": []
    },
    {
      "cell_type": "code",
      "metadata": {
        "id": "EQy_a2zi6oDh",
        "colab_type": "code",
        "colab": {}
      },
      "source": [
        "#Computing accuracy based on the closeness of truth and predicted values.\n",
        "def accuracy(x,y):\n",
        "  acc = []\n",
        "  for i in range(x.shape[0]):\n",
        "    if(x[i] >= y[i]):\n",
        "      acc.append(y[i]/x[i])\n",
        "    else:\n",
        "      acc.append(x[i]/y[i])\n",
        "  return np.array(acc).mean()"
      ],
      "execution_count": 0,
      "outputs": []
    },
    {
      "cell_type": "code",
      "metadata": {
        "id": "jSnj5xWs6lgA",
        "colab_type": "code",
        "colab": {
          "base_uri": "https://localhost:8080/",
          "height": 34
        },
        "outputId": "7e05d7f0-274f-47d6-a7e0-55a0cc3b90d3"
      },
      "source": [
        "#Performance against the dataset.\n",
        "computedResults = []\n",
        "for index, row in dataset.iterrows():\n",
        "      unionSet_1_2, intersectSet = [], []\n",
        "      result = semanticSimilarity(row['sentence_A'],row['sentence_B'])\n",
        "      computedResults.append(generateCategory(result))\n",
        "\n",
        "groundTruth = np.array(dataset['relatedness_score'])\n",
        "print(\"Accuracy: \" +str(accuracy(groundTruth,computedResults)))"
      ],
      "execution_count": 17,
      "outputs": [
        {
          "output_type": "stream",
          "text": [
            "Accuracy: 0.812769286568376\n"
          ],
          "name": "stdout"
        }
      ]
    },
    {
      "cell_type": "code",
      "metadata": {
        "id": "IKFRg02c7R4K",
        "colab_type": "code",
        "colab": {
          "base_uri": "https://localhost:8080/",
          "height": 266
        },
        "outputId": "cdc0fc84-fbbe-4541-b129-bfed3c795edc"
      },
      "source": [
        "labels = 'Correct', 'Incorrect'\n",
        "sizes = [accuracy(groundTruth,computedResults), 1-accuracy(groundTruth,computedResults)]\n",
        "explode = (0.1, 0)\n",
        "colors = ['#66b3ff','#ff9999']\n",
        "plt.rcParams['figure.facecolor'] = 'w'\n",
        "plt.rcParams['font.size'] = 13\n",
        "fig1, ax1 = plt.subplots()\n",
        "ax1.pie(sizes, colors=colors, explode=explode,pctdistance=0.6, labels=labels, autopct='%1.1f%%',\n",
        "        shadow=True, startangle=90)\n",
        "ax1.axis('equal')\n",
        "plt.title('Accuracy obtained against SICK Dataset')\n",
        "plt.show()"
      ],
      "execution_count": 18,
      "outputs": [
        {
          "output_type": "display_data",
          "data": {
            "image/png": "[encoded data removed]",
            "text/plain": [
              "<Figure size 432x288 with 1 Axes>"
            ]
          },
          "metadata": {
            "tags": []
          }
        }
      ]
    }
  ]
}